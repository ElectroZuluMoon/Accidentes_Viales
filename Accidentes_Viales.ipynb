{
 "cells": [
  {
   "cell_type": "markdown",
   "id": "2e3a9120",
   "metadata": {},
   "source": [
    "# Calcular promedio\n",
    "promedio = df_50[\"Vehiculos Involucrados\"].mean()\n",
    "\n",
    "# Calcular desviación estándar\n",
    "desviacion = df_50[\"Vehiculos Involucrados\"].std()\n",
    "\n",
    "print(\"Promedio de Vehiculos Involucrados:\", promedio)\n",
    "print(\"Desviación estándar:\", desviacion)\n",
    "df_50"
   ]
  },
  {
   "cell_type": "code",
   "execution_count": null,
   "id": "bf523c61",
   "metadata": {},
   "outputs": [],
   "source": [
    "# Importar librerías principales\n",
    "import pandas as pd\n",
    "\n",
    "# Cargar el archivo CSV \n",
    "df = pd.read_csv(\"Accidentes_Viales_20251007.csv\")\n",
    "\n",
    "# Mostrar las primeras 50 filas\n",
    "df_50 = df.head(50)\n",
    "df_50\n"
   ]
  }
 ],
 "metadata": {
  "kernelspec": {
   "display_name": "Python 3",
   "language": "python",
   "name": "python3"
  },
  "language_info": {
   "codemirror_mode": {
    "name": "ipython",
    "version": 3
   },
   "file_extension": ".py",
   "mimetype": "text/x-python",
   "name": "python",
   "nbconvert_exporter": "python",
   "pygments_lexer": "ipython3",
   "version": "3.12.7"
  }
 },
 "nbformat": 4,
 "nbformat_minor": 5
}
