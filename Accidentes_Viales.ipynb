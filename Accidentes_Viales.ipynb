{
 "cells": [
  {
   "cell_type": "markdown",
   "id": "ad1e9106",
   "metadata": {},
   "source": [
    "</p> <p align=\"center\">\n",
    "  <img src=\"https://asocolendo.com/wp-content/uploads/2018/05/Logo-UAM.png\" alt=\"Logo Universidad\" width=\"350\">\n",
    "</p>\n",
    "\n",
    "# Analisis de Accidentes Viales del año 2024 \n",
    "<p align=\"left\">\n",
    "  <img src=\"https://ichef.bbci.co.uk/ace/ws/640/cpsprodpb/17DE6/production/_92666779_gettyimages-169021616.jpg.webp\" alt=\"Accidete Vial\" width=\"350\">\n",
    "\n",
    "### 📚 **Materia:** Técnicas de Programación  \n",
    "### 👨‍🎓 **Estudiante:** Daniel Zuluaga   \n",
    "### 👨‍🏫 **Profesor:** Oscar Stiven Morales    \n",
    "### 🏛️ **Institución:** Universidad Autónoma de Manizales  \n",
    "### 📅 **Fecha:** 15 de Octubre de 2025"
   ]
  },
  {
   "cell_type": "markdown",
   "id": "2e3a9120",
   "metadata": {},
   "source": [
    "### Objetivo General:\n",
    "- Analizar los accidentes viales ocurridos durante el año 2024 para identificar los sectores (barrios) con mayor incidencia y los factores que influyen en la gravedad de los accidentes (número de vehículos involucrados y cantidad de heridos).\n",
    "\n",
    "### Objetivos Especificos: \n",
    "- Determinar los barrios con mayor frecuencia de accidentes viales.\n",
    "- Analizar la relación entre el número de vehículos involucrados y la cantidad de heridos.\n",
    "- Identificar el tipo de accidente más común.\n",
    "- Visualizar mediante histogramas, grafico de barras y grafico dedisperción."
   ]
  },
  {
   "cell_type": "markdown",
   "id": "1417276b",
   "metadata": {},
   "source": [
    "## 📂 Carga y visualización inicial de los datos\n",
    "- En esta sección se importa la libreria de Pandas y se carga el archivo Accidentes_Viales_20251007.csv, el cual contiene los registros de accidentes viales ocurridos durante el año 2024.\n",
    "- Se muestran las primeras 50 filas del conjunto de datos para tener una estructura base y verificar que la carga se haya realizado correctamente."
   ]
  },
  {
   "cell_type": "code",
   "execution_count": null,
   "id": "bf523c61",
   "metadata": {},
   "outputs": [],
   "source": [
    "#Importar librerías principales\n",
    "import pandas as pd\n",
    "\n",
    "#Cargar el archivo CSV\n",
    "df = pd.read_csv(\"Accidentes_Viales_20251007.csv\")\n",
    "\n",
    "#Mostrar las primeras 50 filas\n",
    "df_50 = df.head(50)\n",
    "df_50\n"
   ]
  },
  {
   "cell_type": "markdown",
   "id": "13f239ab",
   "metadata": {},
   "source": [
    "## 📊 Promedio y Desviacion Estandar\n",
    "- Promedio (media): representa el número promedio de vehículos que participan en los accidentes viales.\n",
    "\n",
    "- Desviación estándar: indica qué tanto varía el número de vehículos involucrados entre un accidente y otro."
   ]
  },
  {
   "cell_type": "code",
   "execution_count": null,
   "id": "20b86919",
   "metadata": {},
   "outputs": [],
   "source": [
    "#Calcular promedio\n",
    "promedio = df_50[\"Vehiculos Involucrados\"].mean()\n",
    "\n",
    "#Calcular desviación estándar\n",
    "desviacion = df_50[\"Vehiculos Involucrados\"].std()\n",
    "\n",
    "print(\"Promedio de Vehiculos Involucrados:\", promedio)\n",
    "print(\"Desviación estándar:\", desviacion)\n",
    "df_50"
   ]
  },
  {
   "cell_type": "markdown",
   "id": "802b82a8",
   "metadata": {},
   "source": [
    "## 🗺️ Análisis de la distribución geográfica de los accidentes\n",
    "\n",
    "- En esta sección se realiza un conteo de la cantidad de accidentes por zona geográfica (barrio) con el fin de identificar las áreas de la ciudad con mayor número de casos reportados.\n",
    "\n",
    "- Este tipo de análisis permite detectar patrones espaciales y posibles zonas críticas donde ocurren con más frecuencia los siniestros viales.\n",
    "\n",
    "- Adicionalmente, los primeros 50 registros del conjunto de datos se guardan en un archivo Excel (Accidentes_50.xlsx)"
   ]
  },
  {
   "cell_type": "code",
   "execution_count": null,
   "id": "24243efd",
   "metadata": {},
   "outputs": [],
   "source": [
    "#Cantidad de casos por zona geográfica(barrio) \n",
    "casos_por_barrio = df_50[\"Barrio\"].value_counts()\n",
    "\n",
    "print(\"Cantidad de casos por zona geográfica:\")\n",
    "print(casos_por_barrio)\n",
    "\n",
    "#Guardar el DataFrame en un archivo Excel \n",
    "#guardar las primeras 50 filas en un archivo nuevo\n",
    "df_50.to_excel(\"Accidentes_50.xlsx\", index=False)\n",
    "\n",
    "print(\"\\nArchivo 'Accidentes_50.xlsx' guardado correctamente.\")\n"
   ]
  },
  {
   "cell_type": "markdown",
   "id": "dfa6109b",
   "metadata": {},
   "source": [
    "## 🔍 Filtrado avanzado de los accidentes viales\n",
    "\n",
    "#### En esta sección se implementa un menú interactivo de filtrado que permite al usuario seleccionar diferentes criterios para analizar los datos según su interés.\n",
    "\n",
    "#### El sistema realiza el filtrado a partir de las siguientes opciones:\n",
    "\n",
    "1. **Barrios con más casos que el promedio: muestra únicamente las zonas que superan el número medio de accidentes registrados.**\n",
    "\n",
    "2. **Accidentes con más de 2 vehículos involucrados: identifica los siniestros de mayor magnitud.**\n",
    "\n",
    "3. **Tipo de accidente: permite buscar accidentes específicos (por ejemplo, “Choque” o “Atropello”).**\n",
    "\n",
    "4. **Accidentes con heridos: filtra los registros donde el número de heridos sea igual o superior al valor indicado por el usuario.**\n",
    "\n",
    "-El resultado final se muestra en pantalla en formato tabular y se guarda en un archivo Excel (Filtro_Combinado.xlsx) para su posterior análisis.\n",
    "\n",
    "-Este módulo permite realizar un análisis comparativo y exploratorio, facilitando la identificación de patrones en los accidentes viales según la ubicación, la magnitud y la gravedad de los casos."
   ]
  },
  {
   "cell_type": "code",
   "execution_count": null,
   "id": "c641561b",
   "metadata": {},
   "outputs": [],
   "source": [
    "print(\"=== FILTRADO AVANZADO ===\")\n",
    "print(\"1. Barrios con más casos que el promedio\")\n",
    "print(\"2. Accidentes con más de 2 vehículos involucrados\")\n",
    "print(\"3. Filtrar por tipo de accidente (por ejemplo, 'Choque')\")\n",
    "print(\"4. Accidentes con heridos\")\n",
    "print(\"5. Salir\")\n",
    "\n",
    "opcion = input(\"Ingrese el número de la opción que desea: \")\n",
    "\n",
    "#Copia base de los datos\n",
    "datos_filtrados = df_50.copy()\n",
    "\n",
    "# Filtro\n",
    "if opcion == \"1\":\n",
    "    casos_por_barrio = df_50[\"Barrio\"].value_counts()\n",
    "    promedio_casos = casos_por_barrio.mean()\n",
    "    barrios_sobre_promedio = casos_por_barrio[casos_por_barrio > promedio_casos].index\n",
    "    datos_filtrados = df_50[df_50[\"Barrio\"].isin(barrios_sobre_promedio)]\n",
    "    print(\"\\n✅ Filtro aplicado: barrios sobre el promedio\")\n",
    "\n",
    "elif opcion == \"2\":\n",
    "    datos_filtrados = df_50[df_50[\"Vehiculos Involucrados\"] > 2]\n",
    "    print(\"\\n✅ Filtro aplicado: más de 2 vehículos involucrados\")\n",
    "\n",
    "elif opcion == \"3\":\n",
    "    tipo = input(\"Ingrese el tipo de accidente (por ejemplo, 'Choque'): \")\n",
    "    datos_filtrados = df_50[df_50[\"Clase de Accidente\"].str.contains(tipo, case=False, na=False)]\n",
    "    print(f\"\\n✅ Filtro aplicado: tipo de accidente '{tipo}'\")\n",
    "\n",
    "elif opcion == \"4\":\n",
    "    try:\n",
    "        min_heridos = int(input(\"Ingrese el número mínimo de heridos: \"))\n",
    "        datos_filtrados = df_50[df_50[\"Heridos\"] >= min_heridos]\n",
    "        print(f\"\\n✅ Filtro aplicado: al menos {min_heridos} heridos\")\n",
    "    except ValueError:\n",
    "        print(\"\\n⚠️ Entrada inválida.\")\n",
    "\n",
    "elif opcion == \"5\":\n",
    "    print(\"\\nSaliendo...\")\n",
    "else:\n",
    "    print(\"\\n❌ Opción no válida.\")\n",
    "\n",
    "\n",
    "if opcion in [\"1\", \"2\", \"3\", \"4\"]:\n",
    "    print(\"\\n🔹 RESULTADO FINAL DEL FILTRADO COMBINADO\")\n",
    "    print(\"========================================\")\n",
    "    print(datos_filtrados.to_string(index=False))\n",
    "    print(\"========================================\")\n",
    "    print(f\"Total de registros filtrados: {len(datos_filtrados)}\")\n",
    "\n",
    "    archivo_salida = \"Filtro_Combinado.xlsx\"\n",
    "    print(f\"\\nArchivo '{archivo_salida}' guardado correctamente ✅\")"
   ]
  },
  {
   "cell_type": "markdown",
   "id": "f8a4b767",
   "metadata": {},
   "source": [
    "## 📈 Histograma de la distribución de vehículos involucrados\n",
    "\n",
    "- En esta sección se representa gráficamente la distribución de accidentes viales según el número de vehículos involucrados en cada caso.\n",
    "\n",
    "- El histograma permite observar con mayor claridad qué tan frecuentes son los accidentes que involucran 1, 2, 3 o más vehículos, facilitando la identificación de patrones de ocurrencia y posibles tendencias.\n"
   ]
  },
  {
   "cell_type": "code",
   "execution_count": null,
   "id": "dc67c96a",
   "metadata": {},
   "outputs": [],
   "source": [
    "import matplotlib.pyplot as plt\n",
    "\n",
    "\n",
    "plt.figure(figsize=(8,5))\n",
    "plt.hist(df_50[\"Vehiculos Involucrados\"], bins=range(1,5), edgecolor=\"black\", alpha=0.7)\n",
    "\n",
    "plt.title(\"Distribución de Vehículos Involucrados en Accidentes\", fontsize=13)\n",
    "plt.xlabel(\"Número de Vehículos Involucrados\")\n",
    "plt.ylabel(\"Frecuencia de Accidentes\")\n",
    "plt.xticks([1, 2, 3, 4])\n",
    "\n",
    "plt.grid(axis=\"y\", linestyle=\"--\", alpha=0.7)\n",
    "plt.tight_layout()\n",
    "plt.show()\n"
   ]
  },
  {
   "cell_type": "markdown",
   "id": "52338c8e",
   "metadata": {},
   "source": [
    "## 🏙️ Análisis de los accidentes por zona geográfica (barrio)\n",
    "\n",
    "- En esta sección se representa gráficamente la cantidad de accidentes viales registrados por barrio, mostrando los 10 sectores con mayor número de casos.\n",
    "\n",
    "- El gráfico de barras permite identificar de manera visual cuáles son las zonas más afectadas por los siniestros viales, lo cual resulta útil para:\n",
    "\n",
    "1. Detectar zonas críticas con alta concentración de accidentes.\n",
    "\n",
    "2. Evaluar la necesidad de mayores controles viales o señalización.\n",
    "\n",
    "3. Comparar el nivel de incidencia entre diferentes sectores de la ciudad.\n",
    "\n",
    "4. Este tipo de análisis es fundamental para orientar estrategias de prevención"
   ]
  },
  {
   "cell_type": "code",
   "execution_count": null,
   "id": "a468f967",
   "metadata": {},
   "outputs": [],
   "source": [
    "import matplotlib.pyplot as plt\n",
    "\n",
    "\n",
    "# Contar accidentes por barrio\n",
    "casos_por_barrio = df_50[\"Barrio\"].value_counts().head(10)# mostramos los 10 barrios con más casos\n",
    "\n",
    "plt.figure(figsize=(10,6))\n",
    "plt.bar(casos_por_barrio.index, casos_por_barrio.values, color=\"blue\", edgecolor=\"black\")\n",
    "\n",
    "plt.title(\"Cantidad de Accidentes por Barrio (Top 10)\", fontsize=14)\n",
    "plt.xlabel(\"Barrio\")\n",
    "plt.ylabel(\"Número de Accidentes\")\n",
    "\n",
    "plt.xticks(rotation=45, ha=\"right\")\n",
    "plt.grid(axis=\"y\", linestyle=\"--\", alpha=0.7)\n",
    "\n",
    "plt.tight_layout()\n",
    "plt.show()\n"
   ]
  },
  {
   "cell_type": "markdown",
   "id": "c2afc477",
   "metadata": {},
   "source": [
    "## 🔬 Relación entre vehículos involucrados y heridos\n",
    "\n",
    "- En este gráfico de dispersión se muestra la relación entre el número de vehículos involucrados y la cantidad de heridos en los accidentes.\n",
    "\n",
    "- Cada punto representa un accidente:\n",
    "\n",
    "- El eje X muestra los vehículos involucrados.\n",
    "\n",
    "- El eje Y muestra los heridos.\n",
    "\n",
    "- El color y tamaño del punto indican la magnitud del accidente.\n",
    "\n",
    "- Este gráfico permite observar si a mayor cantidad de vehículos también aumenta el número de heridos."
   ]
  },
  {
   "cell_type": "code",
   "execution_count": null,
   "id": "91488fec",
   "metadata": {},
   "outputs": [],
   "source": [
    "import matplotlib.pyplot as plt\n",
    "\n",
    "plt.figure(figsize=(9,6))\n",
    "\n",
    "#Tamaño de punto según cantidad de heridos\n",
    "tamaño_punto = df_50[\"Heridos\"] * 80 # escala del tamaño\n",
    "\n",
    "plt.scatter(\n",
    "    df_50[\"Vehiculos Involucrados\"],\n",
    "    df_50[\"Heridos\"],\n",
    "    s=tamaño_punto,# tamaño de los puntos\n",
    "    c=df_50[\"Vehiculos Involucrados\"], # color según vehículos\n",
    "    cmap=\"viridis\", # paleta de colores profesional\n",
    "    alpha=0.8,\n",
    "    edgecolor=\"black\"\n",
    ")\n",
    "\n",
    "plt.title(\"Relación entre Vehículos Involucrados y Número de Heridos\", fontsize=14, weight=\"bold\")\n",
    "plt.xlabel(\"Número de Vehículos Involucrados\", fontsize=12)\n",
    "plt.ylabel(\"Número de Heridos\", fontsize=12)\n",
    "plt.colorbar(label=\"Vehículos Involucrados\")  # barra de colores lateral\n",
    "\n",
    "plt.grid(True, linestyle=\"--\", alpha=0.5)\n",
    "plt.tight_layout()\n",
    "plt.show()"
   ]
  }
 ],
 "metadata": {
  "kernelspec": {
   "display_name": "Python 3",
   "language": "python",
   "name": "python3"
  },
  "language_info": {
   "codemirror_mode": {
    "name": "ipython",
    "version": 3
   },
   "file_extension": ".py",
   "mimetype": "text/x-python",
   "name": "python",
   "nbconvert_exporter": "python",
   "pygments_lexer": "ipython3",
   "version": "3.12.7"
  }
 },
 "nbformat": 4,
 "nbformat_minor": 5
}
