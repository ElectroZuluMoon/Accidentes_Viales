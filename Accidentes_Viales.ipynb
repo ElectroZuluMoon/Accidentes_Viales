{
 "cells": [
  {
   "cell_type": "markdown",
   "id": "ad1e9106",
   "metadata": {},
   "source": []
  },
  {
   "cell_type": "markdown",
   "id": "2e3a9120",
   "metadata": {},
   "source": [
    "### Objetivo General:\n",
    "- Analizar los accidentes viales ocurridos durante el año 2024 para identificar los sectores (barrios) con mayor incidencia y los factores que influyen en la gravedad de los accidentes (número de vehículos involucrados y cantidad de heridos).\n",
    "\n",
    "### Objetivos Especificos: \n",
    "- Determinar los barrios con mayor frecuencia de accidentes viales.\n",
    "- Analizar la relación entre el número de vehículos involucrados y la cantidad de heridos.\n",
    "- Identificar el tipo de accidente más común.\n",
    "- Visualizar mediante histogramas, grafico de barras y grafico dedisperción."
   ]
  },
  {
   "cell_type": "code",
   "execution_count": null,
   "id": "bf523c61",
   "metadata": {},
   "outputs": [],
   "source": [
    "# Importar librerías principales\n",
    "import pandas as pd\n",
    "\n",
    "# Cargar el archivo CSV \n",
    "df = pd.read_csv(\"Accidentes_Viales_20251007.csv\")\n",
    "\n",
    "# Mostrar las primeras 50 filas\n",
    "df_50 = df.head(50)\n",
    "df_50\n"
   ]
  },
  {
   "cell_type": "markdown",
   "id": "13f239ab",
   "metadata": {},
   "source": []
  },
  {
   "cell_type": "code",
   "execution_count": null,
   "id": "20b86919",
   "metadata": {},
   "outputs": [],
   "source": [
    "# Calcular promedio\n",
    "promedio = df_50[\"Vehiculos Involucrados\"].mean()\n",
    "\n",
    "# Calcular desviación estándar\n",
    "desviacion = df_50[\"Vehiculos Involucrados\"].std()\n",
    "\n",
    "print(\"Promedio de Vehiculos Involucrados:\", promedio)\n",
    "print(\"Desviación estándar:\", desviacion)\n",
    "df_50"
   ]
  },
  {
   "cell_type": "code",
   "execution_count": null,
   "id": "24243efd",
   "metadata": {},
   "outputs": [],
   "source": [
    "#  Cantidad de casos por zona geográfica(barrio) \n",
    "casos_por_barrio = df_50[\"Barrio\"].value_counts()\n",
    "\n",
    "print(\"Cantidad de casos por zona geográfica:\")\n",
    "print(casos_por_barrio)\n",
    "\n",
    "# Guardar el DataFrame en un archivo Excel \n",
    "# (guardamos las primeras 50 filas en un archivo nuevo)\n",
    "df_50.to_excel(\"Accidentes_50.xlsx\", index=False)\n",
    "\n",
    "print(\"\\nArchivo 'Accidentes_50.xlsx' guardado correctamente.\")\n"
   ]
  },
  {
   "cell_type": "markdown",
   "id": "dfa6109b",
   "metadata": {},
   "source": []
  },
  {
   "cell_type": "code",
   "execution_count": null,
   "id": "c641561b",
   "metadata": {},
   "outputs": [],
   "source": [
    "print(\"=== FILTRADO AVANZADO ===\")\n",
    "print(\"1. Barrios con más casos que el promedio\")\n",
    "print(\"2. Accidentes con más de 2 vehículos involucrados\")\n",
    "print(\"3. Filtrar por tipo de accidente (por ejemplo, 'Choque')\")\n",
    "print(\"4. Accidentes con heridos\")\n",
    "print(\"5. Salir\")\n",
    "\n",
    "opcion = input(\"Ingrese el número de la opción que desea: \")\n",
    "\n",
    "#Copia base de los datos\n",
    "datos_filtrados = df_50.copy()\n",
    "\n",
    "# Filtro\n",
    "if opcion == \"1\":\n",
    "    casos_por_barrio = df_50[\"Barrio\"].value_counts()\n",
    "    promedio_casos = casos_por_barrio.mean()\n",
    "    barrios_sobre_promedio = casos_por_barrio[casos_por_barrio > promedio_casos].index\n",
    "    datos_filtrados = df_50[df_50[\"Barrio\"].isin(barrios_sobre_promedio)]\n",
    "    print(\"\\n✅ Filtro aplicado: barrios sobre el promedio\")\n",
    "\n",
    "elif opcion == \"2\":\n",
    "    datos_filtrados = df_50[df_50[\"Vehiculos Involucrados\"] > 2]\n",
    "    print(\"\\n✅ Filtro aplicado: más de 2 vehículos involucrados\")\n",
    "\n",
    "elif opcion == \"3\":\n",
    "    tipo = input(\"Ingrese el tipo de accidente (por ejemplo, 'Choque'): \")\n",
    "    datos_filtrados = df_50[df_50[\"Clase de Accidente\"].str.contains(tipo, case=False, na=False)]\n",
    "    print(f\"\\n✅ Filtro aplicado: tipo de accidente '{tipo}'\")\n",
    "\n",
    "elif opcion == \"4\":\n",
    "    try:\n",
    "        min_heridos = int(input(\"Ingrese el número mínimo de heridos: \"))\n",
    "        datos_filtrados = df_50[df_50[\"Heridos\"] >= min_heridos]\n",
    "        print(f\"\\n✅ Filtro aplicado: al menos {min_heridos} heridos\")\n",
    "    except ValueError:\n",
    "        print(\"\\n⚠️ Entrada inválida.\")\n",
    "\n",
    "elif opcion == \"5\":\n",
    "    print(\"\\nSaliendo...\")\n",
    "else:\n",
    "    print(\"\\n❌ Opción no válida.\")\n",
    "\n",
    "\n",
    "if opcion in [\"1\", \"2\", \"3\", \"4\"]:\n",
    "    print(\"\\n🔹 RESULTADO FINAL DEL FILTRADO COMBINADO\")\n",
    "    print(\"========================================\")\n",
    "    print(datos_filtrados.to_string(index=False))\n",
    "    print(\"========================================\")\n",
    "    print(f\"Total de registros filtrados: {len(datos_filtrados)}\")\n",
    "\n",
    "    archivo_salida = \"Filtro_Combinado.xlsx\"\n",
    "    print(f\"\\nArchivo '{archivo_salida}' guardado correctamente ✅\")"
   ]
  }
 ],
 "metadata": {
  "kernelspec": {
   "display_name": "Python 3",
   "language": "python",
   "name": "python3"
  },
  "language_info": {
   "codemirror_mode": {
    "name": "ipython",
    "version": 3
   },
   "file_extension": ".py",
   "mimetype": "text/x-python",
   "name": "python",
   "nbconvert_exporter": "python",
   "pygments_lexer": "ipython3",
   "version": "3.12.7"
  }
 },
 "nbformat": 4,
 "nbformat_minor": 5
}
